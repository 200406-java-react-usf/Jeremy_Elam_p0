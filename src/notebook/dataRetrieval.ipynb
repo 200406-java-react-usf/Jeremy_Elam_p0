{
 "cells": [
  {
   "cell_type": "code",
   "execution_count": 1,
   "metadata": {},
   "outputs": [],
   "source": [
    "import pandas as pd\n",
    "import requests"
   ]
  },
  {
   "cell_type": "markdown",
   "metadata": {},
   "source": [
    "## Connecting to different url to obtain card name and price"
   ]
  },
  {
   "cell_type": "code",
   "execution_count": 2,
   "metadata": {},
   "outputs": [],
   "source": [
    "Throne_of_Eldraine_url = \"https://www.mtggoldfish.com/index/ELD#online\"\n",
    "Theros_Beyond_Death_url = \"https://www.mtggoldfish.com/index/THB#online\"\n",
    "IKO_url = \"https://www.mtggoldfish.com/index/IKO#online\"\n",
    "M20_url = \"https://www.mtggoldfish.com/index/M20#online\"\n",
    "WAR_url = \"https://www.mtggoldfish.com/index/WAR#online\"\n",
    "RNA_url = \"https://www.mtggoldfish.com/index/RNA#online\"\n",
    "GRN_url = \"https://www.mtggoldfish.com/index/GRN#online\""
   ]
  },
  {
   "cell_type": "code",
   "execution_count": 3,
   "metadata": {},
   "outputs": [],
   "source": [
    "ELD_cards = pd.read_html(Throne_of_Eldraine_url)\n",
    "TBD_cards = pd.read_html(Theros_Beyond_Death_url)\n",
    "IKD_cards = pd.read_html(IKO_url)\n",
    "M20_cards = pd.read_html(M20_url)\n",
    "WAR_cards = pd.read_html(WAR_url)\n",
    "RNA_cards = pd.read_html(RNA_url)\n",
    "GRN_cards = pd.read_html(GRN_url)"
   ]
  },
  {
   "cell_type": "code",
   "execution_count": 4,
   "metadata": {},
   "outputs": [],
   "source": [
    "ELD_cards = ELD_cards[1]\n",
    "TBD_cards = TBD_cards[1]\n",
    "IKD_cards = IKD_cards[1]\n",
    "M20_cards = M20_cards[1]\n",
    "WAR_cards = WAR_cards[1]\n",
    "RNA_cards = RNA_cards[1]\n",
    "GRN_cards = GRN_cards[1]"
   ]
  },
  {
   "cell_type": "markdown",
   "metadata": {},
   "source": [
    "## Joining all of the Data Tables into One Complete Table"
   ]
  },
  {
   "cell_type": "code",
   "execution_count": 5,
   "metadata": {},
   "outputs": [],
   "source": [
    "standard_set = [ELD_cards,TBD_cards, IKD_cards, M20_cards, WAR_cards, RNA_cards, GRN_cards]"
   ]
  },
  {
   "cell_type": "code",
   "execution_count": 6,
   "metadata": {},
   "outputs": [],
   "source": [
    "standard_set = pd.concat(standard_set)"
   ]
  },
  {
   "cell_type": "code",
   "execution_count": 7,
   "metadata": {},
   "outputs": [],
   "source": [
    "standard_set = standard_set.reset_index().drop(columns = ['index','Daily','Daily(%)','Weekly'])"
   ]
  },
  {
   "cell_type": "code",
   "execution_count": 8,
   "metadata": {},
   "outputs": [
    {
     "name": "stdout",
     "output_type": "stream",
     "text": [
      "<class 'pandas.core.frame.DataFrame'>\n",
      "RangeIndex: 1933 entries, 0 to 1932\n",
      "Data columns (total 5 columns):\n",
      "Card          1933 non-null object\n",
      "Set           1933 non-null object\n",
      "Rarity        1933 non-null object\n",
      "Price         1933 non-null float64\n",
      "Weekly (%)    1933 non-null object\n",
      "dtypes: float64(1), object(4)\n",
      "memory usage: 75.6+ KB\n"
     ]
    }
   ],
   "source": [
    "standard_set.info()"
   ]
  },
  {
   "cell_type": "code",
   "execution_count": null,
   "metadata": {},
   "outputs": [],
   "source": []
  }
 ],
 "metadata": {
  "kernelspec": {
   "display_name": "Python 3",
   "language": "python",
   "name": "python3"
  },
  "language_info": {
   "codemirror_mode": {
    "name": "ipython",
    "version": 3
   },
   "file_extension": ".py",
   "mimetype": "text/x-python",
   "name": "python",
   "nbconvert_exporter": "python",
   "pygments_lexer": "ipython3",
   "version": "3.7.3"
  }
 },
 "nbformat": 4,
 "nbformat_minor": 2
}
